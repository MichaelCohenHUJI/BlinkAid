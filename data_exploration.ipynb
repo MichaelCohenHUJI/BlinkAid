{
 "cells": [
  {
   "cell_type": "code",
   "id": "initial_id",
   "metadata": {
    "collapsed": true,
    "ExecuteTime": {
     "end_time": "2025-03-09T11:50:35.536386Z",
     "start_time": "2025-03-09T11:50:35.533710Z"
    }
   },
   "source": [
    "import pandas as pd\n",
    "from scipy.stats import describe as desc\n",
    "import matplotlib.pyplot as plt\n",
    "import numpy as np\n",
    "from sklearn import preprocessing\n",
    "from sklearn.decomposition import PCA, FastICA\n",
    "import os\n",
    "from firstPlots import visualize_channels"
   ],
   "outputs": [],
   "execution_count": 19
  },
  {
   "metadata": {
    "ExecuteTime": {
     "end_time": "2025-03-09T11:50:35.540710Z",
     "start_time": "2025-03-09T11:50:35.537973Z"
    }
   },
   "cell_type": "code",
   "source": [
    "annotations = {\n",
    "    'raz': ['raz3-3_lc_ts.csv', 'raz3-3_lr_ts.csv', 'raz3-3_rc2_ts.csv',\n",
    "            'raz3-3_ud_ts.csv', 'raz_3-3_blinks_ts.csv'],\n",
    "    'yon': ['ts_blinks_yon23-2.csv', 'ts_eg1_yon23-2.csv']\n",
    "}\n",
    "\n",
    "\n",
    "ann_paths = {'raz': 'data/raz_3-3/', 'yon': 'data/yonatan_23-2/'}\n",
    "\n",
    "\n",
    "ann_files = [ann_paths[subject] + ann for subject in annotations.keys() for ann in annotations[subject]]\n"
   ],
   "id": "3087117a95eb1a13",
   "outputs": [],
   "execution_count": 20
  },
  {
   "metadata": {
    "ExecuteTime": {
     "end_time": "2025-03-09T13:26:41.690152Z",
     "start_time": "2025-03-09T13:26:41.656927Z"
    }
   },
   "cell_type": "code",
   "source": [
    "yon = 'data/yonatan_23-2'\n",
    "raz = 'data/raz_3-3'\n",
    "michael = 'data/michael_3-3'\n",
    "filename = '2025_03_03_1303_raz_blinks_no_metronome.csv'\n",
    "filepath = os.path.join(raz, filename)\n",
    "df = pd.read_csv(filepath)"
   ],
   "id": "4328e12f725144ba",
   "outputs": [],
   "execution_count": 46
  },
  {
   "metadata": {
    "ExecuteTime": {
     "end_time": "2025-03-09T11:50:36.923504Z",
     "start_time": "2025-03-09T11:50:35.584313Z"
    }
   },
   "cell_type": "code",
   "source": [
    "# plot data\n",
    "visualize_channels(df, 'original data')\n",
    "\n"
   ],
   "id": "fb234690941c8b1",
   "outputs": [],
   "execution_count": 22
  },
  {
   "metadata": {
    "ExecuteTime": {
     "end_time": "2025-03-09T12:59:14.444284Z",
     "start_time": "2025-03-09T12:59:14.441984Z"
    }
   },
   "cell_type": "code",
   "source": [
    "# run PCA\n",
    "file_names = []\n",
    "for f in os.listdir(raz):\n",
    "    if f.endswith('.csv') and f.startswith('2025'):\n",
    "        file_names.append(f)\n"
   ],
   "id": "8167ef8f76b59783",
   "outputs": [],
   "execution_count": 27
  },
  {
   "metadata": {
    "ExecuteTime": {
     "end_time": "2025-03-09T13:01:17.842981Z",
     "start_time": "2025-03-09T13:01:17.838524Z"
    }
   },
   "cell_type": "code",
   "source": [
    "# standardized data\n",
    "def run_pca(df, n=8):\n",
    "    scaler = preprocessing.StandardScaler()\n",
    "    df_scaled = pd.DataFrame(scaler.fit_transform(df.drop(columns=['timestamp'])), columns=df.columns[1:])\n",
    "    \n",
    "    df_scaled['timestamp'] = df['timestamp']\n",
    "    cols = ['timestamp'] + [col for col in df_scaled.columns if col != 'timestamp']\n",
    "    df_scaled = df_scaled[cols]\n",
    "    \n",
    "    pca = PCA(n_components=n)\n",
    "    df_features = df_scaled.drop(columns=['timestamp'])\n",
    "    pca_result = pca.fit_transform(df_features)\n",
    "    pca_columns = [f'PC{i+1}' for i in range(n)]\n",
    "    df_pca = pd.DataFrame(pca_result, columns=pca_columns)\n",
    "    df_pca['timestamp'] = df_scaled['timestamp']\n",
    "    cols = ['timestamp'] + [col for col in df_pca.columns if col != 'timestamp']\n",
    "    df_pca = df_pca[cols]\n",
    "    print(pca.explained_variance_ratio_)\n",
    "    print(np.sum(pca.explained_variance_ratio_))\n",
    "    \n",
    "    return df_pca, pca_result\n",
    "    \n",
    "\n",
    "\n",
    "\n",
    "\n",
    "\n",
    "\n"
   ],
   "id": "cd14f601e2a7b046",
   "outputs": [],
   "execution_count": 33
  },
  {
   "metadata": {
    "ExecuteTime": {
     "end_time": "2025-03-09T13:11:49.838902Z",
     "start_time": "2025-03-09T13:11:49.077625Z"
    }
   },
   "cell_type": "code",
   "source": [
    "for f in file_names:\n",
    "    df = pd.read_csv(os.path.join(raz, f))\n",
    "    print(f)\n",
    "    run_pca(df, 8)\n",
    "    print()\n",
    "    "
   ],
   "id": "3e16ae0dc43fb36b",
   "outputs": [
    {
     "name": "stdout",
     "output_type": "stream",
     "text": [
      "2025_03_03_1311_raz_left_center.csv\n",
      "[0.8251408  0.09684234 0.04337284 0.01781615 0.00552805 0.00325892\n",
      " 0.00262344 0.00168832]\n",
      "0.9962708497622432\n",
      "\n",
      "2025_03_03_1315_raz_right_center.csv\n",
      "[0.47363382 0.20970217 0.15823651 0.04805237 0.04188485 0.02456343\n",
      " 0.02147791 0.0078065 ]\n",
      "0.9853575473555116\n",
      "\n",
      "2025_03_03_1308_raz_left_right.csv\n",
      "[0.82223204 0.1075984  0.04613374 0.00870577 0.0049208  0.00339008\n",
      " 0.00188667 0.00154506]\n",
      "0.9964125543179027\n",
      "\n",
      "2025_03_03_1319_raz_right_center_2.csv\n",
      "[0.81653769 0.11290264 0.04492255 0.00782519 0.00449936 0.00399302\n",
      " 0.00302358 0.00145637]\n",
      "0.9951603911044055\n",
      "\n",
      "2025_03_03_1326_raz_squint.csv\n",
      "[0.73921065 0.07331352 0.06173456 0.04665892 0.03700442 0.02143977\n",
      " 0.00816832 0.00449778]\n",
      "0.9920279506912751\n",
      "\n",
      "2025_03_03_1332_raz_eye_open_close.csv\n",
      "[0.76436865 0.09902258 0.06245792 0.03001906 0.02617088 0.00551794\n",
      " 0.00535859 0.0026486 ]\n",
      "0.995564203680026\n",
      "\n",
      "2025_03_03_1303_raz_blinks_no_metronome.csv\n",
      "[9.19482758e-01 4.41840759e-02 1.39578342e-02 1.08755370e-02\n",
      " 4.50047127e-03 2.35895751e-03 1.35062423e-03 6.81874647e-04]\n",
      "0.99739213323344\n",
      "\n",
      "2025_03_03_1340_raz_wink_left_right.csv\n",
      "[0.61947829 0.16995926 0.10043436 0.0582062  0.02116216 0.00943133\n",
      " 0.00817379 0.00540286]\n",
      "0.9922482436670277\n",
      "\n",
      "2025_03_03_1322_raz_up_down.csv\n",
      "[9.41954172e-01 3.97898134e-02 7.86585336e-03 3.65306693e-03\n",
      " 1.99071174e-03 1.43726865e-03 9.35211821e-04 7.14528533e-04]\n",
      "0.9983406264000659\n",
      "\n",
      "2025_03_03_1336_raz_eyebrows_raise.csv\n",
      "[8.25034021e-01 6.36571801e-02 5.23808716e-02 3.42133180e-02\n",
      " 1.91485901e-02 2.73425804e-03 1.33977602e-03 4.46022886e-04]\n",
      "0.9989540376163522\n",
      "\n",
      "2025_03_03_1329_raz_yawn.csv\n",
      "[9.65734540e-01 2.11374107e-02 6.95862892e-03 3.55042917e-03\n",
      " 1.41631155e-03 4.20459686e-04 2.75042232e-04 1.78701009e-04]\n",
      "0.9996715232379878\n",
      "\n"
     ]
    }
   ],
   "execution_count": 45
  },
  {
   "metadata": {
    "ExecuteTime": {
     "end_time": "2025-03-09T13:27:57.112965Z",
     "start_time": "2025-03-09T13:27:57.109991Z"
    }
   },
   "cell_type": "code",
   "source": [
    "def run_ica(df, n=8):\n",
    "    \"\"\"\n",
    "    Run ICA on X, which is the data after pca\n",
    "    :param X: \n",
    "    :param n: number of ica components\n",
    "    :return: \n",
    "    \"\"\"\n",
    "    df_pca, X = run_pca(df,n)\n",
    "    ica = FastICA(n_components=n, random_state=42)\n",
    "    X_ica = ica.fit_transform(X)\n",
    "    df_ica = pd.DataFrame(X_ica, columns=[f\"IC{i+1}\" for i in range(n)])\n",
    "    df_ica['timestamp'] = df_pca['timestamp']\n",
    "    cols = ['timestamp'] + [col for col in df_ica.columns if col != 'timestamp']\n",
    "    df_ica = df_pca[cols]\n",
    "    \n",
    "    return df_ica, X_ica\n",
    "    \n",
    "    \n",
    "    "
   ],
   "id": "a357217a48e85e71",
   "outputs": [],
   "execution_count": 48
  },
  {
   "metadata": {
    "ExecuteTime": {
     "end_time": "2025-03-09T13:30:32.310096Z",
     "start_time": "2025-03-09T13:30:03.606467Z"
    }
   },
   "cell_type": "code",
   "source": [
    "ica, _ = run_ica(df)\n",
    "visualize_channels(ica, filename + ' ICA')\n",
    "df_pca, X = run_pca(df, 8)\n",
    "visualize_channels(df_pca, filename + ' PCA')\n",
    "visualize_channels(df, filename + ' original data')"
   ],
   "id": "f0909bbba1de6ad0",
   "outputs": [
    {
     "name": "stdout",
     "output_type": "stream",
     "text": [
      "[9.19482758e-01 4.41840759e-02 1.39578342e-02 1.08755370e-02\n",
      " 4.50047127e-03 2.35895751e-03 1.35062423e-03 6.81874647e-04]\n",
      "0.9973921332334406\n"
     ]
    },
    {
     "ename": "TypeError",
     "evalue": "cannot unpack non-iterable NoneType object",
     "output_type": "error",
     "traceback": [
      "\u001B[0;31m---------------------------------------------------------------------------\u001B[0m",
      "\u001B[0;31mTypeError\u001B[0m                                 Traceback (most recent call last)",
      "\u001B[0;32m/tmp/ipykernel_25845/3103649340.py\u001B[0m in \u001B[0;36m<module>\u001B[0;34m\u001B[0m\n\u001B[0;32m----> 1\u001B[0;31m \u001B[0mica\u001B[0m\u001B[0;34m,\u001B[0m \u001B[0m_\u001B[0m \u001B[0;34m=\u001B[0m \u001B[0mrun_ica\u001B[0m\u001B[0;34m(\u001B[0m\u001B[0mdf\u001B[0m\u001B[0;34m)\u001B[0m\u001B[0;34m\u001B[0m\u001B[0;34m\u001B[0m\u001B[0m\n\u001B[0m\u001B[1;32m      2\u001B[0m \u001B[0mvisualize_channels\u001B[0m\u001B[0;34m(\u001B[0m\u001B[0mica\u001B[0m\u001B[0;34m,\u001B[0m \u001B[0mfilename\u001B[0m \u001B[0;34m+\u001B[0m \u001B[0;34m' ICA'\u001B[0m\u001B[0;34m)\u001B[0m\u001B[0;34m\u001B[0m\u001B[0;34m\u001B[0m\u001B[0m\n\u001B[1;32m      3\u001B[0m \u001B[0mdf_pca\u001B[0m\u001B[0;34m,\u001B[0m \u001B[0mX\u001B[0m \u001B[0;34m=\u001B[0m \u001B[0mrun_pca\u001B[0m\u001B[0;34m(\u001B[0m\u001B[0mdf\u001B[0m\u001B[0;34m,\u001B[0m \u001B[0;36m8\u001B[0m\u001B[0;34m)\u001B[0m\u001B[0;34m\u001B[0m\u001B[0;34m\u001B[0m\u001B[0m\n\u001B[1;32m      4\u001B[0m \u001B[0mvisualize_channels\u001B[0m\u001B[0;34m(\u001B[0m\u001B[0mdf_pca\u001B[0m\u001B[0;34m,\u001B[0m \u001B[0mfilename\u001B[0m \u001B[0;34m+\u001B[0m \u001B[0;34m' PCA'\u001B[0m\u001B[0;34m)\u001B[0m\u001B[0;34m\u001B[0m\u001B[0;34m\u001B[0m\u001B[0m\n\u001B[1;32m      5\u001B[0m \u001B[0mvisualize_channels\u001B[0m\u001B[0;34m(\u001B[0m\u001B[0mdf\u001B[0m\u001B[0;34m,\u001B[0m \u001B[0mfilename\u001B[0m \u001B[0;34m+\u001B[0m \u001B[0;34m' original data'\u001B[0m\u001B[0;34m)\u001B[0m\u001B[0;34m\u001B[0m\u001B[0;34m\u001B[0m\u001B[0m\n",
      "\u001B[0;32m/tmp/ipykernel_25845/2680836512.py\u001B[0m in \u001B[0;36mrun_ica\u001B[0;34m(df, n)\u001B[0m\n\u001B[1;32m      6\u001B[0m     \u001B[0;34m:\u001B[0m\u001B[0;32mreturn\u001B[0m\u001B[0;34m:\u001B[0m\u001B[0;34m\u001B[0m\u001B[0;34m\u001B[0m\u001B[0m\n\u001B[1;32m      7\u001B[0m     \"\"\"\n\u001B[0;32m----> 8\u001B[0;31m     \u001B[0mdf_pca\u001B[0m\u001B[0;34m,\u001B[0m \u001B[0mX\u001B[0m \u001B[0;34m=\u001B[0m \u001B[0mrun_pca\u001B[0m\u001B[0;34m(\u001B[0m\u001B[0mdf\u001B[0m\u001B[0;34m,\u001B[0m\u001B[0mn\u001B[0m\u001B[0;34m)\u001B[0m\u001B[0;34m\u001B[0m\u001B[0;34m\u001B[0m\u001B[0m\n\u001B[0m\u001B[1;32m      9\u001B[0m     \u001B[0mica\u001B[0m \u001B[0;34m=\u001B[0m \u001B[0mFastICA\u001B[0m\u001B[0;34m(\u001B[0m\u001B[0mn_components\u001B[0m\u001B[0;34m=\u001B[0m\u001B[0mn\u001B[0m\u001B[0;34m,\u001B[0m \u001B[0mrandom_state\u001B[0m\u001B[0;34m=\u001B[0m\u001B[0;36m42\u001B[0m\u001B[0;34m)\u001B[0m\u001B[0;34m\u001B[0m\u001B[0;34m\u001B[0m\u001B[0m\n\u001B[1;32m     10\u001B[0m     \u001B[0mX_ica\u001B[0m \u001B[0;34m=\u001B[0m \u001B[0mica\u001B[0m\u001B[0;34m.\u001B[0m\u001B[0mfit_transform\u001B[0m\u001B[0;34m(\u001B[0m\u001B[0mX\u001B[0m\u001B[0;34m)\u001B[0m\u001B[0;34m\u001B[0m\u001B[0;34m\u001B[0m\u001B[0m\n",
      "\u001B[0;31mTypeError\u001B[0m: cannot unpack non-iterable NoneType object"
     ]
    }
   ],
   "execution_count": 50
  }
 ],
 "metadata": {
  "kernelspec": {
   "display_name": "Python 3",
   "language": "python",
   "name": "python3"
  },
  "language_info": {
   "codemirror_mode": {
    "name": "ipython",
    "version": 2
   },
   "file_extension": ".py",
   "mimetype": "text/x-python",
   "name": "python",
   "nbconvert_exporter": "python",
   "pygments_lexer": "ipython2",
   "version": "2.7.6"
  }
 },
 "nbformat": 4,
 "nbformat_minor": 5
}
