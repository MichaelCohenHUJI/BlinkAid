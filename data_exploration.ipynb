{
 "cells": [
  {
   "cell_type": "code",
   "id": "initial_id",
   "metadata": {
    "collapsed": true,
    "ExecuteTime": {
     "end_time": "2025-03-09T11:50:35.536386Z",
     "start_time": "2025-03-09T11:50:35.533710Z"
    }
   },
   "source": [
    "import pandas as pd\n",
    "from scipy.stats import describe as desc\n",
    "import matplotlib.pyplot as plt\n",
    "import numpy as np\n",
    "from sklearn import preprocessing\n",
    "from sklearn.decomposition import PCA, FastICA\n",
    "import os\n",
    "from firstPlots import visualize_channels"
   ],
   "execution_count": 19,
   "outputs": []
  },
  {
   "metadata": {
    "ExecuteTime": {
     "end_time": "2025-03-09T11:50:35.540710Z",
     "start_time": "2025-03-09T11:50:35.537973Z"
    }
   },
   "cell_type": "code",
   "source": [
    "annotations = {\n",
    "    'raz': ['raz3-3_lc_ts.csv', 'raz3-3_lr_ts.csv', 'raz3-3_rc2_ts.csv',\n",
    "            'raz3-3_ud_ts.csv', 'raz_3-3_blinks_ts.csv'],\n",
    "    'yon': ['ts_blinks_yon23-2.csv', 'ts_eg1_yon23-2.csv']\n",
    "}\n",
    "\n",
    "\n",
    "ann_paths = {'raz': 'data/raz_3-3/', 'yon': 'data/yonatan_23-2/'}\n",
    "\n",
    "\n",
    "ann_files = [ann_paths[subject] + ann for subject in annotations.keys() for ann in annotations[subject]]\n"
   ],
   "id": "3087117a95eb1a13",
   "execution_count": 20,
   "outputs": []
  },
  {
   "metadata": {
    "ExecuteTime": {
     "end_time": "2025-03-09T13:26:41.690152Z",
     "start_time": "2025-03-09T13:26:41.656927Z"
    }
   },
   "cell_type": "code",
   "source": [
    "yon = 'data/yonatan_23-2'\n",
    "raz = 'data/raz_3-3'\n",
    "michael = 'data/michael_3-3'\n",
    "filename = '2025_03_03_1303_raz_blinks_no_metronome.csv'\n",
    "filepath = os.path.join(raz, filename)\n",
    "df = pd.read_csv(filepath)"
   ],
   "id": "4328e12f725144ba",
   "execution_count": 46,
   "outputs": []
  },
  {
   "metadata": {
    "ExecuteTime": {
     "end_time": "2025-03-09T11:50:36.923504Z",
     "start_time": "2025-03-09T11:50:35.584313Z"
    }
   },
   "cell_type": "code",
   "source": [
    "# plot data\n",
    "visualize_channels(df, 'original data')\n",
    "\n"
   ],
   "id": "fb234690941c8b1",
   "execution_count": 22,
   "outputs": []
  },
  {
   "metadata": {
    "ExecuteTime": {
     "end_time": "2025-03-09T12:59:14.444284Z",
     "start_time": "2025-03-09T12:59:14.441984Z"
    }
   },
   "cell_type": "code",
   "source": [
    "# run PCA\n",
    "file_names = []\n",
    "for f in os.listdir(raz):\n",
    "    if f.endswith('.csv') and f.startswith('2025'):\n",
    "        file_names.append(f)\n"
   ],
   "id": "8167ef8f76b59783",
   "execution_count": 27,
   "outputs": []
  },
  {
   "metadata": {
    "ExecuteTime": {
     "end_time": "2025-03-09T13:01:17.842981Z",
     "start_time": "2025-03-09T13:01:17.838524Z"
    }
   },
   "cell_type": "code",
   "source": [
    "# standardized data\n",
    "def run_pca(df, n=8):\n",
    "    scaler = preprocessing.StandardScaler()\n",
    "    df_scaled = pd.DataFrame(scaler.fit_transform(df.drop(columns=['timestamp'])), columns=df.columns[1:])\n",
    "    \n",
    "    df_scaled['timestamp'] = df['timestamp']\n",
    "    cols = ['timestamp'] + [col for col in df_scaled.columns if col != 'timestamp']\n",
    "    df_scaled = df_scaled[cols]\n",
    "    \n",
    "    pca = PCA(n_components=n)\n",
    "    df_features = df_scaled.drop(columns=['timestamp'])\n",
    "    pca_result = pca.fit_transform(df_features)\n",
    "    pca_columns = [f'PC{i+1}' for i in range(n)]\n",
    "    df_pca = pd.DataFrame(pca_result, columns=pca_columns)\n",
    "    df_pca['timestamp'] = df_scaled['timestamp']\n",
    "    cols = ['timestamp'] + [col for col in df_pca.columns if col != 'timestamp']\n",
    "    df_pca = df_pca[cols]\n",
    "    print(pca.explained_variance_ratio_)\n",
    "    print(np.sum(pca.explained_variance_ratio_))\n",
    "    \n",
    "    return df_pca, pca_result\n",
    "    \n",
    "\n",
    "\n",
    "\n",
    "\n",
    "\n",
    "\n"
   ],
   "id": "cd14f601e2a7b046",
   "execution_count": 33,
   "outputs": []
  },
  {
   "metadata": {
    "ExecuteTime": {
     "end_time": "2025-03-09T13:11:49.838902Z",
     "start_time": "2025-03-09T13:11:49.077625Z"
    }
   },
   "cell_type": "code",
   "source": [
    "for f in file_names:\n",
    "    df = pd.read_csv(os.path.join(raz, f))\n",
    "    print(f)\n",
    "    run_pca(df, 8)\n",
    "    print()\n",
    "    "
   ],
   "id": "3e16ae0dc43fb36b",
   "execution_count": 45,
   "outputs": []
  },
  {
   "metadata": {
    "ExecuteTime": {
     "end_time": "2025-03-09T13:27:57.112965Z",
     "start_time": "2025-03-09T13:27:57.109991Z"
    }
   },
   "cell_type": "code",
   "source": [
    "def run_ica(df, n=8):\n",
    "    \"\"\"\n",
    "    Run ICA on X, which is the data after pca\n",
    "    :param X: \n",
    "    :param n: number of ica components\n",
    "    :return: \n",
    "    \"\"\"\n",
    "    df_pca, X = run_pca(df,n)\n",
    "    ica = FastICA(n_components=n, random_state=42)\n",
    "    X_ica = ica.fit_transform(X)\n",
    "    df_ica = pd.DataFrame(X_ica, columns=[f\"IC{i+1}\" for i in range(n)])\n",
    "    df_ica['timestamp'] = df_pca['timestamp']\n",
    "    cols = ['timestamp'] + [col for col in df_ica.columns if col != 'timestamp']\n",
    "    df_ica = df_pca[cols]\n",
    "    \n",
    "    return df_ica, X_ica\n",
    "    \n",
    "    \n",
    "    "
   ],
   "id": "a357217a48e85e71",
   "execution_count": 48,
   "outputs": []
  },
  {
   "metadata": {
    "ExecuteTime": {
     "end_time": "2025-03-09T13:30:32.310096Z",
     "start_time": "2025-03-09T13:30:03.606467Z"
    }
   },
   "cell_type": "code",
   "source": [
    "ica, _ = run_ica(df)\n",
    "visualize_channels(ica, filename + ' ICA')\n",
    "df_pca, X = run_pca(df, 8)\n",
    "visualize_channels(df_pca, filename + ' PCA')\n",
    "visualize_channels(df, filename + ' original data')"
   ],
   "id": "f0909bbba1de6ad0",
   "execution_count": 50,
   "outputs": []
  }
 ],
 "metadata": {
  "kernelspec": {
   "display_name": "Python 3",
   "language": "python",
   "name": "python3"
  },
  "language_info": {
   "codemirror_mode": {
    "name": "ipython",
    "version": 2
   },
   "file_extension": ".py",
   "mimetype": "text/x-python",
   "name": "python",
   "nbconvert_exporter": "python",
   "pygments_lexer": "ipython2",
   "version": "2.7.6"
  }
 },
 "nbformat": 4,
 "nbformat_minor": 5
}
